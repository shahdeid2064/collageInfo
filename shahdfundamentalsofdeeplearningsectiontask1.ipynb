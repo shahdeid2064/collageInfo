{
  "nbformat": 4,
  "nbformat_minor": 0,
  "metadata": {
    "colab": {
      "provenance": [],
      "authorship_tag": "ABX9TyMs2BMtD0kIcFW6UwGXaYQw"
    },
    "kernelspec": {
      "name": "python3",
      "display_name": "Python 3"
    },
    "language_info": {
      "name": "python"
    }
  },
  "cells": [
    {
      "cell_type": "markdown",
      "source": [
        "#   الاسم: شهد عبدالقادر السعيد عبدالقادر عيد\n",
        "# الفرقة: تالتة عام\n",
        "\n",
        "\n",
        "\n",
        "\n",
        "\n",
        "\n",
        "\n",
        "\n",
        "   \n",
        "\n"
      ],
      "metadata": {
        "id": "E26KDtW9CQ2w"
      }
    },
    {
      "cell_type": "markdown",
      "source": [
        "Create a random tensor with shape (7, 7)"
      ],
      "metadata": {
        "id": "mUiKrvLw_NNN"
      }
    },
    {
      "cell_type": "code",
      "execution_count": 10,
      "metadata": {
        "colab": {
          "base_uri": "https://localhost:8080/"
        },
        "id": "gz2QzdT4pEYk",
        "outputId": "4773a648-e0f3-4fa6-a05f-aec70b2a959e"
      },
      "outputs": [
        {
          "output_type": "stream",
          "name": "stdout",
          "text": [
            "tensor([[0.4963, 0.7682, 0.0885, 0.1320, 0.3074, 0.6341, 0.4901],\n",
            "        [0.8964, 0.4556, 0.6323, 0.3489, 0.4017, 0.0223, 0.1689],\n",
            "        [0.2939, 0.5185, 0.6977, 0.8000, 0.1610, 0.2823, 0.6816],\n",
            "        [0.9152, 0.3971, 0.8742, 0.4194, 0.5529, 0.9527, 0.0362],\n",
            "        [0.1852, 0.3734, 0.3051, 0.9320, 0.1759, 0.2698, 0.1507],\n",
            "        [0.0317, 0.2081, 0.9298, 0.7231, 0.7423, 0.5263, 0.2437],\n",
            "        [0.5846, 0.0332, 0.1387, 0.2422, 0.8155, 0.7932, 0.2783]])\n"
          ]
        }
      ],
      "source": [
        "import torch\n",
        "\n",
        "# Set the random seed\n",
        "torch.manual_seed(0)\n",
        "\n",
        "# Create a random tensor of shape (7, 7)\n",
        "tensor = torch.rand(7, 7)\n",
        "\n",
        "print(tensor)"
      ]
    },
    {
      "cell_type": "markdown",
      "source": [
        " Perform a matrix multiplication on the tensor from above with another random tensor with shape (1, 7) (hint: you may have to transpose the second tensor"
      ],
      "metadata": {
        "id": "xOMCD1E5_lg-"
      }
    },
    {
      "cell_type": "code",
      "source": [
        "import torch\n",
        "\n",
        "# Create the first random tensor of shape (7, 7)\n",
        "tensor1 = torch.rand(7, 7)\n",
        "\n",
        "# Create the second random tensor of shape (1, 7)\n",
        "tensor2 = torch.rand(1, 7)\n",
        "\n",
        "# Transpose the second tensor to make it (7, 1)\n",
        "tensor2_t = tensor2.T  # or tensor2.transpose(0, 1)\n",
        "\n",
        "# Perform matrix multiplication\n",
        "result = torch.matmul(tensor1, tensor2_t)\n",
        "print(\"\\nResult:\\n\", result)"
      ],
      "metadata": {
        "colab": {
          "base_uri": "https://localhost:8080/"
        },
        "id": "VGToZVoqy2oa",
        "outputId": "f6425cfb-b778-4eda-eb3f-14389c2befd3"
      },
      "execution_count": 12,
      "outputs": [
        {
          "output_type": "stream",
          "name": "stdout",
          "text": [
            "\n",
            "Result:\n",
            " tensor([[1.1061],\n",
            "        [0.9868],\n",
            "        [1.8999],\n",
            "        [0.7716],\n",
            "        [1.3174],\n",
            "        [1.6353],\n",
            "        [1.7395]])\n"
          ]
        }
      ]
    },
    {
      "cell_type": "markdown",
      "source": [
        "Set the random seed to 0 and do 2 & 3 over **again**"
      ],
      "metadata": {
        "id": "PA6l0-Aj_rlK"
      }
    },
    {
      "cell_type": "code",
      "source": [
        "# Set the random seed\n",
        "torch.manual_seed(0)\n",
        "\n",
        "# Create a random tensor of shape (1, 7)\n",
        "tensor2 = torch.rand(1, 7)\n",
        "\n",
        "# Transpose the second tensor to shape (7, 1)\n",
        "tensor2_transposed = tensor2.t()\n",
        "\n",
        "# Perform matrix multiplication\n",
        "result_tensor = torch.matmul(tensor, tensor2_transposed)\n",
        "\n",
        "print(result_tensor)"
      ],
      "metadata": {
        "colab": {
          "base_uri": "https://localhost:8080/"
        },
        "id": "gAUXbUZ8u9vx",
        "outputId": "3ccd12b9-96ca-4060-e2d5-43c40ec86675"
      },
      "execution_count": 13,
      "outputs": [
        {
          "output_type": "stream",
          "name": "stdout",
          "text": [
            "tensor([[1.5985],\n",
            "        [1.1173],\n",
            "        [1.2741],\n",
            "        [1.6838],\n",
            "        [0.8279],\n",
            "        [1.0347],\n",
            "        [1.2498]])\n"
          ]
        }
      ]
    },
    {
      "cell_type": "markdown",
      "source": [
        "Speaking of random seeds, we saw how to set it with torch.manual_seed() but is there a GPU equivalent? (hint: you'll need to look into the documentation for torch.cuda for this one)**bold text**"
      ],
      "metadata": {
        "id": "y2aj4rEP_03o"
      }
    },
    {
      "cell_type": "code",
      "source": [
        "import torch\n",
        "\n",
        "# Set the random seed on the GPU\n",
        "if torch.cuda.is_available():\n",
        "    torch.cuda.manual_seed(0)\n",
        "    print(\"Random seed set on GPU.\")\n",
        "else:\n",
        "    print(\"GPU not available. Random seed not set on GPU.\")"
      ],
      "metadata": {
        "colab": {
          "base_uri": "https://localhost:8080/"
        },
        "id": "9mcNgpzB0nVj",
        "outputId": "89838d64-6ddb-49d5-d181-a60acf52418c"
      },
      "execution_count": 14,
      "outputs": [
        {
          "output_type": "stream",
          "name": "stdout",
          "text": [
            "GPU not available. Random seed not set on GPU.\n"
          ]
        }
      ]
    },
    {
      "cell_type": "code",
      "metadata": {
        "colab": {
          "base_uri": "https://localhost:8080/"
        },
        "id": "e94ff69e",
        "outputId": "e895e7fa-df45-4fbe-e7fe-dcd95605dfc5"
      },
      "source": [
        "import torch\n",
        "\n",
        "if torch.cuda.is_available():\n",
        "    # Create a tensor on the GPU\n",
        "    gpu_tensor = torch.rand(3, 3, device='cuda')\n",
        "    print(\"Tensor created on GPU:\\n\", gpu_tensor)\n",
        "else:\n",
        "    print(\"GPU not available. Cannot create tensor directly on GPU.\")"
      ],
      "execution_count": 17,
      "outputs": [
        {
          "output_type": "stream",
          "name": "stdout",
          "text": [
            "GPU not available. Cannot create tensor directly on GPU.\n"
          ]
        }
      ]
    },
    {
      "cell_type": "markdown",
      "source": [
        "Create two random tensors of shape (2, 3) and send them both to the GPU (you'll need access to a GPU for this). Set torch.manual_seed(1234) when creating the tensors (this doesn't have to be the GPU random seed)**bold text**"
      ],
      "metadata": {
        "id": "JWek3TDoAAtJ"
      }
    },
    {
      "cell_type": "code",
      "metadata": {
        "colab": {
          "base_uri": "https://localhost:8080/"
        },
        "id": "e04835ac",
        "outputId": "f5ec378a-bef8-4fd0-c3f7-dd15b314a3dc"
      },
      "source": [
        "import torch\n",
        "\n",
        "# Set the random seed\n",
        "torch.manual_seed(1234)\n",
        "\n",
        "# Create two random tensors of shape (2, 3)\n",
        "tensor1 = torch.rand(2, 3)\n",
        "tensor2 = torch.rand(2, 3)\n",
        "\n",
        "print(\"CPU Tensor 1:\\n\", tensor1)\n",
        "print(\"CPU Tensor 2:\\n\", tensor2)\n",
        "\n",
        "# Send tensors to the GPU if available\n",
        "if torch.cuda.is_available():\n",
        "    gpu_tensor1 = tensor1.to('cuda')\n",
        "    gpu_tensor2 = tensor2.to('cuda')\n",
        "    print(\"\\nGPU Tensor 1:\\n\", gpu_tensor1)\n",
        "    print(\"GPU Tensor 2:\\n\", gpu_tensor2)\n",
        "else:\n",
        "    print(\"\\nGPU not available. Tensors remain on CPU.\")"
      ],
      "execution_count": 18,
      "outputs": [
        {
          "output_type": "stream",
          "name": "stdout",
          "text": [
            "CPU Tensor 1:\n",
            " tensor([[0.0290, 0.4019, 0.2598],\n",
            "        [0.3666, 0.0583, 0.7006]])\n",
            "CPU Tensor 2:\n",
            " tensor([[0.0518, 0.4681, 0.6738],\n",
            "        [0.3315, 0.7837, 0.5631]])\n",
            "\n",
            "GPU not available. Tensors remain on CPU.\n"
          ]
        }
      ]
    },
    {
      "cell_type": "markdown",
      "source": [
        " Perform a matrix multiplication on the tensors you created in above\n",
        "  (again, you may have to adjust the shapes of one of the tensors)"
      ],
      "metadata": {
        "id": "K-ZI1do-AmQ-"
      }
    },
    {
      "cell_type": "code",
      "source": [
        "import torch\n",
        "\n",
        "# Assuming tensor1 and tensor2 are already defined from the previous cell\n",
        "\n",
        "# Check if tensors are on GPU and perform multiplication accordingly\n",
        "if torch.cuda.is_available():\n",
        "    # Tensors are on GPU\n",
        "    # Transpose the second tensor to shape (3, 2)\n",
        "    gpu_tensor2_transposed = gpu_tensor2.t()\n",
        "    # Perform matrix multiplication on GPU\n",
        "    gpu_result = torch.matmul(gpu_tensor1, gpu_tensor2_transposed)\n",
        "    print(\"GPU Matrix Multiplication Result:\\n\", gpu_result)\n",
        "else:\n",
        "    # Tensors are on CPU\n",
        "    # Transpose the second tensor to shape (3, 2)\n",
        "    tensor2_transposed = tensor2.t()\n",
        "    # Perform matrix multiplication on CPU\n",
        "    cpu_result = torch.matmul(tensor1, tensor2_transposed)\n",
        "    print(\"CPU Matrix Multiplication Result:\\n\", cpu_result)"
      ],
      "metadata": {
        "colab": {
          "base_uri": "https://localhost:8080/"
        },
        "id": "DV7N6Deg3_3a",
        "outputId": "b4cc05bd-8922-4308-9b0e-c0cb2efe86fa"
      },
      "execution_count": 19,
      "outputs": [
        {
          "output_type": "stream",
          "name": "stdout",
          "text": [
            "CPU Matrix Multiplication Result:\n",
            " tensor([[0.3647, 0.4709],\n",
            "        [0.5184, 0.5617]])\n"
          ]
        }
      ]
    },
    {
      "cell_type": "markdown",
      "source": [
        "Find the maximum and minimum values of the output of above"
      ],
      "metadata": {
        "id": "bM6WlH0iA1ma"
      }
    },
    {
      "cell_type": "code",
      "metadata": {
        "colab": {
          "base_uri": "https://localhost:8080/"
        },
        "id": "f8752d93",
        "outputId": "fc956d31-5db2-4041-ce2d-0a7087bd783f"
      },
      "source": [
        "import torch\n",
        "\n",
        "# Assuming 'cpu_result' or 'gpu_result' exists from the previous cell\n",
        "if torch.cuda.is_available():\n",
        "    if 'gpu_result' in locals():\n",
        "        max_value = torch.max(gpu_result)\n",
        "        min_value = torch.min(gpu_result)\n",
        "        print(\"Maximum value of the result tensor:\", max_value)\n",
        "        print(\"Minimum value of the result tensor:\", min_value)\n",
        "    else:\n",
        "        print(\"GPU result tensor not found.\")\n",
        "else:\n",
        "    if 'cpu_result' in locals():\n",
        "        max_value = torch.max(cpu_result)\n",
        "        min_value = torch.min(cpu_result)\n",
        "        print(\"Maximum value of the result tensor:\", max_value)\n",
        "        print(\"Minimum value of the result tensor:\", min_value)\n",
        "    else:\n",
        "        print(\"CPU result tensor not found.\")"
      ],
      "execution_count": 24,
      "outputs": [
        {
          "output_type": "stream",
          "name": "stdout",
          "text": [
            "Maximum value of the result tensor: tensor(0.5617)\n",
            "Minimum value of the result tensor: tensor(0.3647)\n"
          ]
        }
      ]
    },
    {
      "cell_type": "markdown",
      "source": [
        "Find the maximum and minimum index values of the output of above"
      ],
      "metadata": {
        "id": "IbW0TUGaA-dc"
      }
    },
    {
      "cell_type": "code",
      "metadata": {
        "colab": {
          "base_uri": "https://localhost:8080/"
        },
        "id": "8b1a6fd3",
        "outputId": "f6c75cc5-b7e0-4d35-e362-fbc182372d7a"
      },
      "source": [
        "import torch\n",
        "\n",
        "# Assuming 'cpu_result' or 'gpu_result' exists from the previous cell\n",
        "if torch.cuda.is_available():\n",
        "    if 'gpu_result' in locals():\n",
        "        max_index = torch.argmax(gpu_result)\n",
        "        min_index = torch.argmin(gpu_result)\n",
        "        print(\"Index of the maximum value:\", max_index)\n",
        "        print(\"Index of the minimum value:\", min_index)\n",
        "    else:\n",
        "        print(\"GPU result tensor not found.\")\n",
        "else:\n",
        "    if 'cpu_result' in locals():\n",
        "        max_index = torch.argmax(cpu_result)\n",
        "        min_index = torch.argmin(cpu_result)\n",
        "        print(\"Index of the maximum value:\", max_index)\n",
        "        print(\"Index of the minimum value:\", min_index)\n",
        "    else:\n",
        "        print(\"CPU result tensor not found.\")"
      ],
      "execution_count": 25,
      "outputs": [
        {
          "output_type": "stream",
          "name": "stdout",
          "text": [
            "Index of the maximum value: tensor(3)\n",
            "Index of the minimum value: tensor(0)\n"
          ]
        }
      ]
    },
    {
      "cell_type": "markdown",
      "source": [
        "Make a random tensor with shape (1, 1, 1, 10) and then create a new tensor with all the 1 dimensions removed to be left with a tensor of shape (10). Set the seed to 7 when you create it and print out the first tensor and it's shape as well as the second tensor and it's shape"
      ],
      "metadata": {
        "id": "W11NjRGKBMQ3"
      }
    },
    {
      "cell_type": "code",
      "metadata": {
        "colab": {
          "base_uri": "https://localhost:8080/"
        },
        "id": "2e585dcd",
        "outputId": "ca46cad2-6382-45c3-c717-c0921b3abbf5"
      },
      "source": [
        "import torch\n",
        "\n",
        "# Set the random seed\n",
        "torch.manual_seed(7)\n",
        "\n",
        "# Create a random tensor with shape (1, 1, 1, 10)\n",
        "tensor1 = torch.rand(1, 1, 1, 10)\n",
        "\n",
        "print(\"First Tensor:\\n\", tensor1)\n",
        "print(\"Shape of the first tensor:\", tensor1.shape)\n",
        "\n",
        "# Create a new tensor with all 1 dimensions removed\n",
        "tensor2 = torch.squeeze(tensor1)\n",
        "\n",
        "print(\"\\nSecond Tensor (squeezed):\\n\", tensor2)\n",
        "print(\"Shape of the second tensor:\", tensor2.shape)"
      ],
      "execution_count": 26,
      "outputs": [
        {
          "output_type": "stream",
          "name": "stdout",
          "text": [
            "First Tensor:\n",
            " tensor([[[[0.5349, 0.1988, 0.6592, 0.6569, 0.2328, 0.4251, 0.2071, 0.6297,\n",
            "           0.3653, 0.8513]]]])\n",
            "Shape of the first tensor: torch.Size([1, 1, 1, 10])\n",
            "\n",
            "Second Tensor (squeezed):\n",
            " tensor([0.5349, 0.1988, 0.6592, 0.6569, 0.2328, 0.4251, 0.2071, 0.6297, 0.3653,\n",
            "        0.8513])\n",
            "Shape of the second tensor: torch.Size([10])\n"
          ]
        }
      ]
    }
  ]
}